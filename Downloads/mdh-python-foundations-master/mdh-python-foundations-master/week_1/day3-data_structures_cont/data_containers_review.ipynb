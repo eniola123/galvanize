{
 "cells": [
  {
   "cell_type": "code",
   "execution_count": null,
   "metadata": {},
   "outputs": [],
   "source": [
    "## Review\n",
    "\n",
    "Variable Types:"
   ]
  },
  {
   "cell_type": "code",
   "execution_count": 59,
   "metadata": {},
   "outputs": [],
   "source": [
    "a = 'a'        # string\n",
    "b = int(2)     # int\n",
    "c = float(3.2) # float\n",
    "b = True       # boolean"
   ]
  },
  {
   "cell_type": "markdown",
   "metadata": {},
   "source": [
    "### Lists\n",
    "\n",
    "They are mutable"
   ]
  },
  {
   "cell_type": "code",
   "execution_count": 60,
   "metadata": {},
   "outputs": [
    {
     "name": "stdout",
     "output_type": "stream",
     "text": [
      "[1, 2, 3]\n",
      "['a', 2, 3]\n",
      "['a', 2, 3, '3', '4', '5']\n",
      "[(1, 2), [1, 2]]\n"
     ]
    }
   ],
   "source": [
    "## create\n",
    "a = [0,1,2]\n",
    "a = list((1,2,3))\n",
    "print(a)\n",
    "\n",
    "## index into and reassign\n",
    "a[0] = 'a'\n",
    "print(a)\n",
    "\n",
    "## add to a list\n",
    "a.append('3')\n",
    "a.extend(['4','5'])\n",
    "print(a)\n",
    "\n",
    "## recall that you can put other data containers inside the list\n",
    "b = [(1,2),[1,2]]\n",
    "print(b)"
   ]
  },
  {
   "cell_type": "markdown",
   "metadata": {},
   "source": [
    "### Tuples\n",
    "\n",
    "They are immutable"
   ]
  },
  {
   "cell_type": "code",
   "execution_count": 20,
   "metadata": {},
   "outputs": [
    {
     "name": "stdout",
     "output_type": "stream",
     "text": [
      "1\n",
      "(1, 2, 'c')\n"
     ]
    }
   ],
   "source": [
    "## create\n",
    "a = (1,2)\n",
    "b = (1,2,3,3)\n",
    "c = tuple([1,2])\n",
    "\n",
    "## cannot index into for reassignment (the following would error)\n",
    "# a[0] = 'b'\n",
    "\n",
    "## indexing still works though\n",
    "print(a[0])\n",
    "\n",
    "## again other data containers can be used\n",
    "d = ([1,2,3],('a','b'))\n",
    "\n",
    "## concat two tuples\n",
    "e = a + tuple('c')\n",
    "print(e)"
   ]
  },
  {
   "cell_type": "markdown",
   "metadata": {},
   "source": [
    "## Sets\n",
    "\n",
    "mutable container like a list that holds only the unique values\n",
    "operations from set theory are available on these containers"
   ]
  },
  {
   "cell_type": "code",
   "execution_count": 48,
   "metadata": {},
   "outputs": [
    {
     "name": "stdout",
     "output_type": "stream",
     "text": [
      "{1, 2, 3}\n",
      "{'f', 'b', 'c', 'a', 'd', 'e'}\n",
      "intersection {3, 4}\n"
     ]
    }
   ],
   "source": [
    "## create a set (two different ways)\n",
    "a = set([1,2,3,3])\n",
    "a = {1,2,3,3}\n",
    "print(a)\n",
    "\n",
    "## index into a set and change (does not work)\n",
    "## a[0] = 9\n",
    "\n",
    "## Note that you cannot index into the set due to inconsistent ordering\n",
    "## print(a[0])\n",
    "\n",
    "## sets are not limited to ints and strings\n",
    "a = set([('a,b'),(1,2)])\n",
    "\n",
    "## add a single item (add) or add multiple items (updarte) to a set\n",
    "a = {'a','b','c'}\n",
    "a.add('d')\n",
    "a.update(('d','e','f'))\n",
    "print(a)\n",
    "\n",
    "## recall that you can do mathematical set operations\n",
    "a = set([1,2,3,4])\n",
    "b = set([3,4,5,6])\n",
    "print('intersection',a.intersection(b))"
   ]
  },
  {
   "cell_type": "markdown",
   "metadata": {},
   "source": [
    "## Looping\n",
    "\n",
    "Looping over an iterable.  Iterables are lists, tuples and sets"
   ]
  },
  {
   "cell_type": "code",
   "execution_count": 26,
   "metadata": {},
   "outputs": [
    {
     "name": "stdout",
     "output_type": "stream",
     "text": [
      "a\n",
      "b\n",
      "c\n"
     ]
    }
   ],
   "source": [
    "## simple for loop\n",
    "my_list = ['a','b','c']\n",
    "for element in my_list:\n",
    "    print(element)"
   ]
  },
  {
   "cell_type": "code",
   "execution_count": 31,
   "metadata": {},
   "outputs": [
    {
     "name": "stdout",
     "output_type": "stream",
     "text": [
      "0 a\n",
      "1 b\n",
      "2 c\n"
     ]
    }
   ],
   "source": [
    "## enumerate may be used to keep track of indices\n",
    "my_list = ['a','b','c']\n",
    "for index,element in enumerate(my_list):\n",
    "    print(index,element)"
   ]
  },
  {
   "cell_type": "code",
   "execution_count": 32,
   "metadata": {},
   "outputs": [
    {
     "data": {
      "text/plain": [
       "['item-a', 'item-b', 'item-c']"
      ]
     },
     "execution_count": 32,
     "metadata": {},
     "output_type": "execute_result"
    }
   ],
   "source": [
    "## list comprehension (used to modify iterables)\n",
    "my_new_list = ['item-'+element for element in my_list]\n",
    "my_new_list"
   ]
  },
  {
   "cell_type": "markdown",
   "metadata": {},
   "source": [
    "## Dictionaries"
   ]
  },
  {
   "cell_type": "code",
   "execution_count": 57,
   "metadata": {},
   "outputs": [
    {
     "name": "stdout",
     "output_type": "stream",
     "text": [
      "a 1\n",
      "b 2\n",
      "c 3\n",
      "keys ['a', 'b', 'c']\n",
      "values [1, 2, 3]\n"
     ]
    }
   ],
   "source": [
    "## create a dictionary\n",
    "\n",
    "## create a dictionary all at once\n",
    "a = {'key1':'value', 'key2':'another_value'}\n",
    "\n",
    "## declare each value individually\n",
    "a = {}\n",
    "a['key1'] = 'value'\n",
    "a['key2'] = 'another value'\n",
    "\n",
    "## create a dictionary from two lists (using zip)\n",
    "keys = ['a', 'b', 'c']\n",
    "values = [1, 2, 3]\n",
    "b = dict(zip(keys, values))\n",
    "\n",
    "## iterate over a dictionary\n",
    "for key, value in b.items():\n",
    "    print(key,value)\n",
    "\n",
    "## get the keys\n",
    "print('keys',list(b.keys()))\n",
    "print('values',list(b.values()))\n",
    "\n",
    "## check to see if a key is present in the dictionary\n",
    "states = {'Nuevo Leon':'Monterrey'}\n",
    "\n",
    "new_state = 'Oaxaca'\n",
    "new_capital = 'Oaxaca de Juárez'\n",
    "if new_state in states:\n",
    "    pass\n",
    "else:\n",
    "    states[new_state] = new_capital\n",
    "\n",
    "## another way\n",
    "if new_state not in states:\n",
    "    states[new_state] = new_capital"
   ]
  },
  {
   "cell_type": "markdown",
   "metadata": {},
   "source": [
    "### Example from lecture"
   ]
  },
  {
   "cell_type": "code",
   "execution_count": 61,
   "metadata": {},
   "outputs": [],
   "source": [
    "team_stats = {'tigres': {'wins': 100, 'loses': 1}, 'rayados': {'wins': 1, 'loses': 1}}"
   ]
  },
  {
   "cell_type": "code",
   "execution_count": 63,
   "metadata": {},
   "outputs": [],
   "source": [
    "team_wins = [val['wins'] for key,val in team_stats.items()] "
   ]
  },
  {
   "cell_type": "code",
   "execution_count": 64,
   "metadata": {},
   "outputs": [
    {
     "data": {
      "text/plain": [
       "[100, 1]"
      ]
     },
     "execution_count": 64,
     "metadata": {},
     "output_type": "execute_result"
    }
   ],
   "source": [
    "team_wins"
   ]
  },
  {
   "cell_type": "code",
   "execution_count": null,
   "metadata": {},
   "outputs": [],
   "source": []
  }
 ],
 "metadata": {
  "kernelspec": {
   "display_name": "Python 3",
   "language": "python",
   "name": "python3"
  },
  "language_info": {
   "codemirror_mode": {
    "name": "ipython",
    "version": 3
   },
   "file_extension": ".py",
   "mimetype": "text/x-python",
   "name": "python",
   "nbconvert_exporter": "python",
   "pygments_lexer": "ipython3",
   "version": "3.7.3"
  }
 },
 "nbformat": 4,
 "nbformat_minor": 2
}
